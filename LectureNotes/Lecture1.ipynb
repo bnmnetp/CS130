{
 "cells": [
  {
   "cell_type": "code",
   "execution_count": 10,
   "metadata": {
    "collapsed": false,
    "scrolled": true,
    "slideshow": {
     "slide_type": "skip"
    }
   },
   "outputs": [],
   "source": [
    "from IPython.display import Image\n",
    "from IPython.display import HTML\n",
    "\n"
   ]
  },
  {
   "cell_type": "markdown",
   "metadata": {
    "slideshow": {
     "slide_type": "slide"
    }
   },
   "source": [
    "# Welcome to CS130\n"
   ]
  },
  {
   "cell_type": "markdown",
   "metadata": {
    "slideshow": {
     "slide_type": "slide"
    }
   },
   "source": [
    "\n",
    "CS-130 Fundamentals of Web Programming\n",
    "======================================\n",
    "\n",
    "Contact\n",
    "=======\n",
    "\n",
    "Brad Miller  |    \n",
    "----- | ----\n",
    "Office | Olin, 321\n",
    "email | bmiller@luther.edu\\\n",
    "Skype | bonelake\\\n",
    "Google+ | millbr02\n",
    "Lecture Notes:  http://github.com/bnmnmetp/CS130/LectureNotes\n",
    "\n",
    "\n",
    "Office Hours\n",
    "============\n",
    "\n",
    "Monday Wednesday, Friday: 9:30 -- 10:30, 1:00 -- 2:30 <br>\n",
    "Other times by appointment, drop-in, or virtual. Really! I’m here to\n",
    "help you, so stop in. Mornings are open and I’m usually around.\n",
    "\n",
    "\n"
   ]
  },
  {
   "cell_type": "markdown",
   "metadata": {
    "slideshow": {
     "slide_type": "subslide"
    }
   },
   "source": [
    "Text Book\n",
    "=========\n",
    "\n",
    "I have written a set of class notes and exercise in the form of an online textbook.  You can find a link to the [textbook](http://interactivepython.org/runestone/static/cs130Fall15/index.html) on the katie course page.\n",
    "\n",
    "\n",
    "Goals\n",
    "=====\n",
    "\n",
    "-   To understand the common technologies used to create and deliver web pages\n",
    "\n",
    "-   To understand how modern web publishing works\n",
    "\n",
    "-   To learn HTML and CSS\n",
    "\n",
    "-   To learn how to learn about rapidly changing technologies\n",
    "\n",
    "-   To become familiar with the Javascript Language\n",
    "\n",
    "\n",
    "\n"
   ]
  },
  {
   "cell_type": "markdown",
   "metadata": {
    "slideshow": {
     "slide_type": "subslide"
    }
   },
   "source": [
    "Course Outline\n",
    "==============\n",
    "\n",
    "\n",
    "<img src='threelegs.jpg'>\n"
   ]
  },
  {
   "cell_type": "markdown",
   "metadata": {
    "slideshow": {
     "slide_type": "fragment"
    }
   },
   "source": [
    "\n",
    "\n",
    "1.  HTML\n",
    "\n",
    "    1.  Functional view of the web\n",
    "\n",
    "    2.  Creating basic web pages “from scratch”\n",
    "\n",
    "    3.  HTML 5 Elements\n",
    "\n",
    "    4.  Serving and Deploying on github\n",
    "\n",
    "2.  Styling Web Pages with CSS\n",
    "\n",
    "    1.  Presentation -vs- content\n",
    "\n",
    "    2.  CSS Matching Rules\n",
    "\n",
    "    3.  Laying out your pages\n",
    "\n",
    "    4.  Responsive design with Bootstrap\n",
    "\n",
    "3.  Javascript\n",
    "\n",
    "    1.  Language fundamentals\n",
    "\n",
    "    2.  The Document Object Model (DOM)\n",
    "\n",
    "    3.  Conditionals\n",
    "    \n",
    "    4.  Loops\n",
    "    \n",
    "    5.  Javascript Helper Objects: Arrays and localStorage\n",
    "\n",
    "\n"
   ]
  },
  {
   "cell_type": "markdown",
   "metadata": {
    "slideshow": {
     "slide_type": "slide"
    }
   },
   "source": [
    "Getting Help\n",
    "============\n",
    "\n",
    "The best way for you to get help is to contact me by stopping in my office.  The second best is for you to email me your question, and your code.  The answers to many of your questions may also be in the textbook, but I realize that you may not be following everything in the text, and so some additional explanation might be useful.  What about googling for some help?  I would strongly encourage you to **NOT google** for an answer.  Many of the answers you might find by googling will lead you down a bad path.  Its not that they are wrong it is just that many of the answers you are likely to find are meant for programmers with much more experience.  The exeption to this is [w3schools](http://www.w3schools.com).  The answers on w3schools are going to be short, to the point, and good for beginners.  So, if you want to be efficient with your time, I recommend you stick to the resources I have mentioned here when you need help.\n",
    "\n",
    "\n"
   ]
  },
  {
   "cell_type": "markdown",
   "metadata": {
    "slideshow": {
     "slide_type": "slide"
    }
   },
   "source": [
    "Class Requirements: \n",
    "===================\n",
    "\n",
    "Participation\n",
    "-------------\n",
    "\n",
    "“The teacher’s job is to design learning experiences, not primarily to\n",
    "impart information” This is going to be an experiential class, I’ll\n",
    "lecture some and try to explain some big picture stuff but, I’ve learned\n",
    "everything I know in this area by doing stuff. I expect you to be\n",
    "engaged and to ask questions and do stuff. If you stop at the bare\n",
    "minimum of what I ask you to do for any particular assignment you’ll be\n",
    "missing an opportunity.\n",
    "\n",
    "Homework\n",
    "--------\n",
    "\n",
    "You will have at least weekly homework assignments, sometimes more\n",
    "frequently when they are easier.   I will often ask you to complete something that we started working on in class by the beginning of the next class.  This type of assignment counts toward your class participation grade.\n",
    "\n",
    "\n",
    "Grading\n",
    "-------\n",
    "\n",
    "    60%   Homework Assignments\n",
    "    30%   Weekly Quizzes\n",
    "    10%   Class participation\n",
    "\n",
    "The grading scale is:\n",
    "\n",
    "    90 -- 100   A\n",
    "    80 -- 89    B\n",
    "    70 -- 79    C\n",
    "    60 -- 69    D\n",
    "    0 --  59    F\n",
    "    "
   ]
  },
  {
   "cell_type": "markdown",
   "metadata": {
    "slideshow": {
     "slide_type": "slide"
    }
   },
   "source": [
    "# Lets get going\n",
    "\n",
    "* Question 1:  How does this browser thing work anyway?\n"
   ]
  },
  {
   "cell_type": "markdown",
   "metadata": {
    "slideshow": {
     "slide_type": "fragment"
    }
   },
   "source": [
    "<img src=\"internet-diagram.gif\" height=\"400\">\n"
   ]
  },
  {
   "cell_type": "markdown",
   "metadata": {
    "slideshow": {
     "slide_type": "slide"
    }
   },
   "source": [
    "# Thats a little complicated\n",
    "\n",
    "<img src=\"cloud-central.jpg\">"
   ]
  },
  {
   "cell_type": "markdown",
   "metadata": {
    "slideshow": {
     "slide_type": "slide"
    }
   },
   "source": [
    "# Loading  a web page\n",
    "\n",
    "* Browser makes a request to a server for a page\n",
    "\n",
    "  * URL `http://www.luther.edu/ideas-creations-blog/index.html`\n",
    "  * Break it down:\n",
    "    * http\n",
    "    * www.luther.edu\n",
    "    * /ideas-creations-blog/index.html\n",
    "    \n",
    "  * The language that the browser uses to 'talk' to the server is called `HTTP` for Hyper Text Transfer Protocol\n",
    "  * A protocol is the special set of rules that end points in a telecommunication connection use when they communicate."
   ]
  },
  {
   "cell_type": "markdown",
   "metadata": {
    "slideshow": {
     "slide_type": "fragment"
    }
   },
   "source": [
    "* The request looks like:\n",
    "  * `GET /ideas-creations-blog/index.html HTTP/1.1`\n",
    "\n"
   ]
  },
  {
   "cell_type": "markdown",
   "metadata": {
    "slideshow": {
     "slide_type": "fragment"
    }
   },
   "source": [
    "* The server responds with\n",
    "  * `HTTP/1.1 200 OK`\n",
    "  * And then some **Headers**\n",
    "  * And then the **contents** of the page follow\n",
    "  \n",
    "* The contents of the page are\n",
    "  * HTML -- Hyper Text Markup Language\n",
    "  * CSS -- Cascading Style Sheets\n",
    "  * Javscript\n",
    "  * images\n",
    "  * videos\n",
    "  * etc.\n"
   ]
  },
  {
   "cell_type": "markdown",
   "metadata": {
    "slideshow": {
     "slide_type": "fragment"
    }
   },
   "source": [
    "* Lets try a simple page\n",
    "  * http://knuth.luther.edu/~millbr02/test.html\n",
    "  "
   ]
  },
  {
   "cell_type": "markdown",
   "metadata": {},
   "source": [
    "### Here is what the Conversation Looks like:\n",
    "\n",
    "```html\n",
    "telnet knuth.luther.edu 80\n",
    "Trying 192.203.196.71...\n",
    "Connected to knuth.luther.edu.\n",
    "Escape character is '^]'.\n",
    "GET /~millbr02/test.html HTTP/1.1\n",
    "Host: knuth.luther.edu\n",
    "\n",
    "HTTP/1.1 200 OK\n",
    "Date: Tue, 25 Aug 2015 17:49:10 GMT\n",
    "Server: Apache/2.4.7 (Ubuntu)\n",
    "Last-Modified: Sat, 15 Nov 2014 20:03:02 GMT\n",
    "ETag: \"1d8-507eb3ba531e6\"\n",
    "Accept-Ranges: bytes\n",
    "Content-Length: 472\n",
    "Content-Type: text/html\n",
    "\n",
    "<!DOCTYPE html>\n",
    "<html lang=\"en\">\n",
    "<head>\n",
    "        <meta http-equiv=\"Content-Type\" content=\"text/html; charset=utf-8\">\n",
    "        <title>Test Page</title>\n",
    "        <meta name=\"generator\" content=\"TextMate http://macromates.com/\">\n",
    "        <meta name=\"author\" content=\"Brad Miller\">\n",
    "        <!-- Date: 2007-09-03 -->\n",
    "</head>\n",
    "<body>\n",
    "<h1>Hello CS-440</h1>\n",
    "<p>This is a test page for your http client program</p>\n",
    "</body>\n",
    "</html>\n",
    "Connection closed by foreign host.\n",
    "```\n"
   ]
  },
  {
   "cell_type": "markdown",
   "metadata": {
    "slideshow": {
     "slide_type": "slide"
    }
   },
   "source": [
    "# What does the browser do with this?\n",
    "\n",
    "* The browser *renders* the HTML into the nice picture we see on the screen.\n",
    "\n",
    "* Behind every beautiful webpage is a bunch of HTML\n",
    "* This HTML is turned into a graph\n",
    "* The graph is then turned into cool stuff"
   ]
  },
  {
   "cell_type": "code",
   "execution_count": 18,
   "metadata": {
    "collapsed": false,
    "slideshow": {
     "slide_type": "skip"
    }
   },
   "outputs": [],
   "source": [
    "#  %install_ext https://raw.github.com/tkf/ipython-hierarchymagic/master/hierarchymagic.py\n",
    "%load_ext hierarchymagic"
   ]
  },
  {
   "cell_type": "markdown",
   "metadata": {
    "slideshow": {
     "slide_type": "slide"
    }
   },
   "source": [
    "# What does this graph look like?"
   ]
  },
  {
   "cell_type": "code",
   "execution_count": 25,
   "metadata": {
    "collapsed": false,
    "slideshow": {
     "slide_type": "fragment"
    }
   },
   "outputs": [
    {
     "data": {
      "image/png": "[encoded data removed]"
     },
     "metadata": {},
     "output_type": "display_data"
    }
   ],
   "source": [
    "%%dot -- \n",
    "    digraph G {\n",
    "        html->head; html->body; \n",
    "        head->meta; head->title; \n",
    "        body->h1; h1->\"hello cs-440\"; body->p; p->\"this is a test...\";\n",
    "    }"
   ]
  }
 ],
 "metadata": {
  "celltoolbar": "Slideshow",
  "kernelspec": {
   "display_name": "Python 3",
   "language": "python",
   "name": "python3"
  },
  "language_info": {
   "codemirror_mode": {
    "name": "ipython",
    "version": 3
   },
   "file_extension": ".py",
   "mimetype": "text/x-python",
   "name": "python",
   "nbconvert_exporter": "python",
   "pygments_lexer": "ipython3",
   "version": "3.4.1"
  }
 },
 "nbformat": 4,
 "nbformat_minor": 0
}
